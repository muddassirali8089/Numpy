{
 "cells": [
  {
   "cell_type": "code",
   "execution_count": 1,
   "id": "a47f4812",
   "metadata": {},
   "outputs": [],
   "source": [
    "import numpy as np"
   ]
  },
  {
   "cell_type": "code",
   "execution_count": 2,
   "id": "003e3f7c",
   "metadata": {},
   "outputs": [
    {
     "name": "stdout",
     "output_type": "stream",
     "text": [
      "1D array is :[1 2 3 4]\n",
      "2D array is :[[ 1  2  3]\n",
      " [ 1 23  4]]\n"
     ]
    }
   ],
   "source": [
    "arr_1d = np.array([1,2,3,4])\n",
    "\n",
    "print(f\"1D array is :{arr_1d}\")\n",
    "\n",
    "\n",
    "arr_2D = np.array([[1,2,3] , [1,23,4]])\n",
    "\n",
    "print(f\"2D array is :{arr_2D}\")\n"
   ]
  },
  {
   "cell_type": "code",
   "execution_count": null,
   "id": "b4eabb5d",
   "metadata": {},
   "outputs": [],
   "source": [
    "### List vs numpy Arrays"
   ]
  },
  {
   "cell_type": "code",
   "execution_count": 3,
   "id": "755b741e",
   "metadata": {},
   "outputs": [
    {
     "name": "stdout",
     "output_type": "stream",
     "text": [
      "list multiplaction [1, 2, 3, 4, 1, 2, 3, 4]\n",
      "Array multiplaction [2 4 6 8]\n"
     ]
    }
   ],
   "source": [
    "list  = [1,2,3,4]\n",
    "print(f\"list multiplaction {list * 2}\")\n",
    "np_array = np.array([1,2,3,4])\n",
    "print(f\"Array multiplaction {np_array * 2}\")"
   ]
  },
  {
   "cell_type": "code",
   "execution_count": 4,
   "id": "5e98a1f9",
   "metadata": {},
   "outputs": [
    {
     "name": "stdout",
     "output_type": "stream",
     "text": [
      "1750142933.6216745\n",
      "\n",
      "\n",
      "list operation time 0.06899142265319824\n",
      "array  operation time 0.0056607723236083984\n"
     ]
    }
   ],
   "source": [
    "import time\n",
    "\n",
    "start = time.time()\n",
    "\n",
    "print(start)\n",
    "print('\\n')\n",
    "\n",
    "list = [i*2 for i in range(1000000)]\n",
    "end = time.time()\n",
    "\n",
    "print(f\"list operation time {end-start}\")\n",
    "\n",
    "start = time.time()\n",
    "np_array = np.arange(1000000)*2\n",
    "\n",
    "end = time.time()\n",
    "print(f\"array  operation time {end-start}\")\n",
    "\n",
    "\n",
    "\n"
   ]
  },
  {
   "cell_type": "code",
   "execution_count": null,
   "id": "9bfba4f0",
   "metadata": {},
   "outputs": [],
   "source": []
  },
  {
   "cell_type": "markdown",
   "id": "4d5bc7de",
   "metadata": {},
   "source": [
    "### creating array from scratch\n"
   ]
  },
  {
   "cell_type": "code",
   "execution_count": 5,
   "id": "cae8dbbb",
   "metadata": {},
   "outputs": [
    {
     "name": "stdout",
     "output_type": "stream",
     "text": [
      "zeros array: \n",
      " [[0. 0. 0.]\n",
      " [0. 0. 0.]]\n",
      "once array: \n",
      " [[1. 1. 1.]\n",
      " [1. 1. 1.]\n",
      " [1. 1. 1.]\n",
      " [1. 1. 1.]\n",
      " [1. 1. 1.]]\n",
      "full array: \n",
      " [[7 7 7]\n",
      " [7 7 7]]\n",
      "random array: \n",
      " [[0.54578006 0.95901126 0.06634218]\n",
      " [0.65843989 0.07302331 0.38053759]]\n",
      "sequance array: \n",
      " [ 0  2  4  6  8 10]\n"
     ]
    }
   ],
   "source": [
    "zeros = np.zeros((2, 3))\n",
    "print(\"zeros array: \\n\" , zeros)\n",
    "\n",
    "\n",
    "once = np.ones((5,3))\n",
    "\n",
    "print(\"once array: \\n\" , once)\n",
    "\n",
    "\n",
    "full  = np.full((2,3) , 7)\n",
    "print(\"full array: \\n\" , full)\n",
    "\n",
    "\n",
    "random = np.random.random((2,3))\n",
    "print(\"random array: \\n\" , random)\n",
    "\n",
    "\n",
    "sequance = np.arange(0 , 11 , 2)\n",
    "print(\"sequance array: \\n\" , sequance)"
   ]
  },
  {
   "cell_type": "code",
   "execution_count": null,
   "id": "b6ee7324",
   "metadata": {},
   "outputs": [],
   "source": []
  },
  {
   "cell_type": "markdown",
   "id": "1db8b538",
   "metadata": {},
   "source": [
    "vector metxix and tensor"
   ]
  },
  {
   "cell_type": "markdown",
   "id": "493006d1",
   "metadata": {},
   "source": []
  },
  {
   "cell_type": "code",
   "execution_count": 6,
   "id": "d622c251",
   "metadata": {},
   "outputs": [
    {
     "name": "stdout",
     "output_type": "stream",
     "text": [
      "vector :  [1 2 3]\n",
      "metrix :  [[ 1  2  4]\n",
      " [ 1  2 34]]\n",
      "tensor :  [[[1 2 3]\n",
      "  [1 2 3]]\n",
      "\n",
      " [[1 2 3]\n",
      "  [1 2 3]]]\n"
     ]
    }
   ],
   "source": [
    "vector = np.array([1,2,3])\n",
    "print(\"vector : \",vector)\n",
    "\n",
    "metrix = np.array([[1,2,4] , [1,2,34]])\n",
    "print(\"metrix : \" , metrix)\n",
    "\n",
    "tensor = np.array([[[1,2,3] ,[1,2 , 3]] , [[1,2,3] , [1,2,3]]])\n",
    "print(\"tensor : \" , tensor)"
   ]
  },
  {
   "cell_type": "markdown",
   "id": "d34874f3",
   "metadata": {},
   "source": [
    "Array properties\n"
   ]
  },
  {
   "cell_type": "code",
   "execution_count": 7,
   "id": "0f31725b",
   "metadata": {},
   "outputs": [
    {
     "name": "stdout",
     "output_type": "stream",
     "text": [
      "shape (2, 3)\n",
      "Dimenstion 2\n",
      "size 6\n",
      "Dtype int64\n"
     ]
    }
   ],
   "source": [
    "import numpy as np\n",
    "\n",
    "my_arr = np.array([[1, 2, 3], \n",
    "                   [4, 5, 6]])\n",
    "print(\"shape\" , my_arr.shape)\n",
    "print(\"Dimenstion\" , my_arr.ndim)\n",
    "print(\"size\" , my_arr.size)\n",
    "print(\"Dtype\" , my_arr.dtype)\n"
   ]
  },
  {
   "cell_type": "markdown",
   "id": "7f6ec292",
   "metadata": {},
   "source": [
    "Array Reshaping"
   ]
  },
  {
   "cell_type": "code",
   "execution_count": 12,
   "id": "6882796c",
   "metadata": {},
   "outputs": [
    {
     "name": "stdout",
     "output_type": "stream",
     "text": [
      "[0 1 2 3 4 5 6 7 8 9]\n",
      "Reshaples [[0 1 2 3 4]\n",
      " [5 6 7 8 9]]\n"
     ]
    }
   ],
   "source": [
    "arr = np.arange(0 , 10)\n",
    "print(arr)\n",
    "\n",
    "reshasped = arr.reshape(2,5)\n",
    "print(\"Reshaples\" , reshasped)"
   ]
  },
  {
   "cell_type": "code",
   "execution_count": 14,
   "id": "f9b5866a",
   "metadata": {},
   "outputs": [
    {
     "name": "stdout",
     "output_type": "stream",
     "text": [
      "Original array: [ 0  1  2  3  4  5  6  7  8  9 10]\n",
      "\n",
      "Reshaped 1x11:\n",
      " [[ 0  1  2  3  4  5  6  7  8  9 10]]\n",
      "Reshaped 11x1:\n",
      " [[ 0]\n",
      " [ 1]\n",
      " [ 2]\n",
      " [ 3]\n",
      " [ 4]\n",
      " [ 5]\n",
      " [ 6]\n",
      " [ 7]\n",
      " [ 8]\n",
      " [ 9]\n",
      " [10]]\n",
      "\n",
      "Raveled (flattened): [ 0  1  2  3  4  5  6  7  8  9 10]\n",
      "Flattened: [ 0  1  2  3  4  5  6  7  8  9 10]\n",
      "\n",
      "Array Properties:\n",
      "Dimensions: 1\n",
      "Shape: (11,)\n",
      "Size: 11\n",
      "Data type: int64\n"
     ]
    }
   ],
   "source": [
    "import numpy as np\n",
    "\n",
    "arr = np.arange(0, 11)\n",
    "print(\"Original array:\", arr)\n",
    "\n",
    "# Reshape\n",
    "reshaped_1x11 = arr.reshape(1, 11)\n",
    "reshaped_11x1 = arr.reshape(11, 1)\n",
    "print(\"\\nReshaped 1x11:\\n\", reshaped_1x11)\n",
    "print(\"Reshaped 11x1:\\n\", reshaped_11x1)\n",
    "\n",
    "# Flatten\n",
    "raveled = reshaped_1x11.ravel()\n",
    "flattened = reshaped_11x1.flatten()\n",
    "print(\"\\nRaveled (flattened):\", raveled)\n",
    "print(\"Flattened:\", flattened)\n",
    "\n",
    "# Properties\n",
    "print(\"\\nArray Properties:\")\n",
    "print(\"Dimensions:\", arr.ndim)\n",
    "print(\"Shape:\", arr.shape)\n",
    "print(\"Size:\", arr.size)\n",
    "print(\"Data type:\", arr.dtype)\n"
   ]
  }
 ],
 "metadata": {
  "kernelspec": {
   "display_name": "venv",
   "language": "python",
   "name": "python3"
  },
  "language_info": {
   "codemirror_mode": {
    "name": "ipython",
    "version": 3
   },
   "file_extension": ".py",
   "mimetype": "text/x-python",
   "name": "python",
   "nbconvert_exporter": "python",
   "pygments_lexer": "ipython3",
   "version": "3.13.3"
  }
 },
 "nbformat": 4,
 "nbformat_minor": 5
}
